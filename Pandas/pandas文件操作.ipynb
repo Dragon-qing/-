{
 "cells": [
  {
   "cell_type": "code",
   "execution_count": 1,
   "id": "46a59847",
   "metadata": {},
   "outputs": [],
   "source": [
    "import pandas as pd"
   ]
  },
  {
   "cell_type": "markdown",
   "id": "df0c207a",
   "metadata": {},
   "source": [
    "# csv"
   ]
  },
  {
   "cell_type": "code",
   "execution_count": 4,
   "id": "9f2faa75",
   "metadata": {},
   "outputs": [],
   "source": [
    "data = pd.read_csv(\"data/stock_day.csv\", usecols = [\"open\", \"close\"])"
   ]
  },
  {
   "cell_type": "code",
   "execution_count": 7,
   "id": "ee62354c",
   "metadata": {},
   "outputs": [],
   "source": [
    "data[:10].to_csv(\"data/test.csv\", columns=[\"open\"], index = False)"
   ]
  },
  {
   "cell_type": "markdown",
   "id": "bcff49c0",
   "metadata": {},
   "source": [
    "# hdf5"
   ]
  },
  {
   "cell_type": "code",
   "execution_count": 9,
   "id": "0eabf0b7",
   "metadata": {},
   "outputs": [],
   "source": [
    "data = pd.read_hdf(\"data/day_close.h5\")"
   ]
  },
  {
   "cell_type": "code",
   "execution_count": 14,
   "id": "57be21a0",
   "metadata": {},
   "outputs": [
    {
     "data": {
      "text/html": [
       "<div>\n",
       "<style scoped>\n",
       "    .dataframe tbody tr th:only-of-type {\n",
       "        vertical-align: middle;\n",
       "    }\n",
       "\n",
       "    .dataframe tbody tr th {\n",
       "        vertical-align: top;\n",
       "    }\n",
       "\n",
       "    .dataframe thead th {\n",
       "        text-align: right;\n",
       "    }\n",
       "</style>\n",
       "<table border=\"1\" class=\"dataframe\">\n",
       "  <thead>\n",
       "    <tr style=\"text-align: right;\">\n",
       "      <th></th>\n",
       "      <th>000001.SZ</th>\n",
       "      <th>000002.SZ</th>\n",
       "      <th>000004.SZ</th>\n",
       "      <th>000005.SZ</th>\n",
       "      <th>000006.SZ</th>\n",
       "      <th>000007.SZ</th>\n",
       "      <th>000008.SZ</th>\n",
       "      <th>000009.SZ</th>\n",
       "      <th>000010.SZ</th>\n",
       "      <th>000011.SZ</th>\n",
       "      <th>...</th>\n",
       "      <th>001965.SZ</th>\n",
       "      <th>603283.SH</th>\n",
       "      <th>002920.SZ</th>\n",
       "      <th>002921.SZ</th>\n",
       "      <th>300684.SZ</th>\n",
       "      <th>002922.SZ</th>\n",
       "      <th>300735.SZ</th>\n",
       "      <th>603329.SH</th>\n",
       "      <th>603655.SH</th>\n",
       "      <th>603080.SH</th>\n",
       "    </tr>\n",
       "  </thead>\n",
       "  <tbody>\n",
       "    <tr>\n",
       "      <th>0</th>\n",
       "      <td>16.30</td>\n",
       "      <td>17.71</td>\n",
       "      <td>4.58</td>\n",
       "      <td>2.88</td>\n",
       "      <td>14.60</td>\n",
       "      <td>2.62</td>\n",
       "      <td>4.96</td>\n",
       "      <td>4.66</td>\n",
       "      <td>5.37</td>\n",
       "      <td>6.02</td>\n",
       "      <td>...</td>\n",
       "      <td>NaN</td>\n",
       "      <td>NaN</td>\n",
       "      <td>NaN</td>\n",
       "      <td>NaN</td>\n",
       "      <td>NaN</td>\n",
       "      <td>NaN</td>\n",
       "      <td>NaN</td>\n",
       "      <td>NaN</td>\n",
       "      <td>NaN</td>\n",
       "      <td>NaN</td>\n",
       "    </tr>\n",
       "    <tr>\n",
       "      <th>1</th>\n",
       "      <td>17.02</td>\n",
       "      <td>19.20</td>\n",
       "      <td>4.65</td>\n",
       "      <td>3.02</td>\n",
       "      <td>15.97</td>\n",
       "      <td>2.65</td>\n",
       "      <td>4.95</td>\n",
       "      <td>4.70</td>\n",
       "      <td>5.37</td>\n",
       "      <td>6.27</td>\n",
       "      <td>...</td>\n",
       "      <td>NaN</td>\n",
       "      <td>NaN</td>\n",
       "      <td>NaN</td>\n",
       "      <td>NaN</td>\n",
       "      <td>NaN</td>\n",
       "      <td>NaN</td>\n",
       "      <td>NaN</td>\n",
       "      <td>NaN</td>\n",
       "      <td>NaN</td>\n",
       "      <td>NaN</td>\n",
       "    </tr>\n",
       "    <tr>\n",
       "      <th>2</th>\n",
       "      <td>17.02</td>\n",
       "      <td>17.28</td>\n",
       "      <td>4.56</td>\n",
       "      <td>3.06</td>\n",
       "      <td>14.37</td>\n",
       "      <td>2.63</td>\n",
       "      <td>4.82</td>\n",
       "      <td>4.47</td>\n",
       "      <td>5.37</td>\n",
       "      <td>5.96</td>\n",
       "      <td>...</td>\n",
       "      <td>NaN</td>\n",
       "      <td>NaN</td>\n",
       "      <td>NaN</td>\n",
       "      <td>NaN</td>\n",
       "      <td>NaN</td>\n",
       "      <td>NaN</td>\n",
       "      <td>NaN</td>\n",
       "      <td>NaN</td>\n",
       "      <td>NaN</td>\n",
       "      <td>NaN</td>\n",
       "    </tr>\n",
       "    <tr>\n",
       "      <th>3</th>\n",
       "      <td>16.18</td>\n",
       "      <td>16.97</td>\n",
       "      <td>4.49</td>\n",
       "      <td>2.95</td>\n",
       "      <td>13.10</td>\n",
       "      <td>2.73</td>\n",
       "      <td>4.89</td>\n",
       "      <td>4.33</td>\n",
       "      <td>5.37</td>\n",
       "      <td>5.77</td>\n",
       "      <td>...</td>\n",
       "      <td>NaN</td>\n",
       "      <td>NaN</td>\n",
       "      <td>NaN</td>\n",
       "      <td>NaN</td>\n",
       "      <td>NaN</td>\n",
       "      <td>NaN</td>\n",
       "      <td>NaN</td>\n",
       "      <td>NaN</td>\n",
       "      <td>NaN</td>\n",
       "      <td>NaN</td>\n",
       "    </tr>\n",
       "    <tr>\n",
       "      <th>4</th>\n",
       "      <td>16.95</td>\n",
       "      <td>17.19</td>\n",
       "      <td>4.55</td>\n",
       "      <td>2.99</td>\n",
       "      <td>13.18</td>\n",
       "      <td>2.77</td>\n",
       "      <td>4.97</td>\n",
       "      <td>4.42</td>\n",
       "      <td>5.37</td>\n",
       "      <td>5.92</td>\n",
       "      <td>...</td>\n",
       "      <td>NaN</td>\n",
       "      <td>NaN</td>\n",
       "      <td>NaN</td>\n",
       "      <td>NaN</td>\n",
       "      <td>NaN</td>\n",
       "      <td>NaN</td>\n",
       "      <td>NaN</td>\n",
       "      <td>NaN</td>\n",
       "      <td>NaN</td>\n",
       "      <td>NaN</td>\n",
       "    </tr>\n",
       "  </tbody>\n",
       "</table>\n",
       "<p>5 rows × 3562 columns</p>\n",
       "</div>"
      ],
      "text/plain": [
       "   000001.SZ  000002.SZ  000004.SZ  000005.SZ  000006.SZ  000007.SZ  \\\n",
       "0      16.30      17.71       4.58       2.88      14.60       2.62   \n",
       "1      17.02      19.20       4.65       3.02      15.97       2.65   \n",
       "2      17.02      17.28       4.56       3.06      14.37       2.63   \n",
       "3      16.18      16.97       4.49       2.95      13.10       2.73   \n",
       "4      16.95      17.19       4.55       2.99      13.18       2.77   \n",
       "\n",
       "   000008.SZ  000009.SZ  000010.SZ  000011.SZ  ...  001965.SZ  603283.SH  \\\n",
       "0       4.96       4.66       5.37       6.02  ...        NaN        NaN   \n",
       "1       4.95       4.70       5.37       6.27  ...        NaN        NaN   \n",
       "2       4.82       4.47       5.37       5.96  ...        NaN        NaN   \n",
       "3       4.89       4.33       5.37       5.77  ...        NaN        NaN   \n",
       "4       4.97       4.42       5.37       5.92  ...        NaN        NaN   \n",
       "\n",
       "   002920.SZ  002921.SZ  300684.SZ  002922.SZ  300735.SZ  603329.SH  \\\n",
       "0        NaN        NaN        NaN        NaN        NaN        NaN   \n",
       "1        NaN        NaN        NaN        NaN        NaN        NaN   \n",
       "2        NaN        NaN        NaN        NaN        NaN        NaN   \n",
       "3        NaN        NaN        NaN        NaN        NaN        NaN   \n",
       "4        NaN        NaN        NaN        NaN        NaN        NaN   \n",
       "\n",
       "   603655.SH  603080.SH  \n",
       "0        NaN        NaN  \n",
       "1        NaN        NaN  \n",
       "2        NaN        NaN  \n",
       "3        NaN        NaN  \n",
       "4        NaN        NaN  \n",
       "\n",
       "[5 rows x 3562 columns]"
      ]
     },
     "execution_count": 14,
     "metadata": {},
     "output_type": "execute_result"
    }
   ],
   "source": [
    "data.head()"
   ]
  },
  {
   "cell_type": "code",
   "execution_count": 16,
   "id": "d0d29219",
   "metadata": {},
   "outputs": [],
   "source": [
    "data.to_hdf(\"./data/test_py38.h5\", key = \"close\")"
   ]
  },
  {
   "cell_type": "markdown",
   "id": "1f792aa5",
   "metadata": {},
   "source": [
    "# json"
   ]
  },
  {
   "cell_type": "code",
   "execution_count": 18,
   "id": "e15d40bd",
   "metadata": {},
   "outputs": [],
   "source": [
    "data = pd.read_json(\"./data/Sarcasm_Headlines_Dataset.json\", orient=\"records\", lines = True)"
   ]
  },
  {
   "cell_type": "code",
   "execution_count": 21,
   "id": "c517d5eb",
   "metadata": {},
   "outputs": [],
   "source": [
    "data.to_json(\"./data/test.json\", orient = \"records\", lines=True)"
   ]
  },
  {
   "cell_type": "code",
   "execution_count": null,
   "id": "d584facb",
   "metadata": {},
   "outputs": [],
   "source": []
  }
 ],
 "metadata": {
  "kernelspec": {
   "display_name": "Python 3 (ipykernel)",
   "language": "python",
   "name": "python3"
  },
  "language_info": {
   "codemirror_mode": {
    "name": "ipython",
    "version": 3
   },
   "file_extension": ".py",
   "mimetype": "text/x-python",
   "name": "python",
   "nbconvert_exporter": "python",
   "pygments_lexer": "ipython3",
   "version": "3.7.10"
  },
  "nbTranslate": {
   "displayLangs": [
    "*"
   ],
   "hotkey": "alt-t",
   "langInMainMenu": true,
   "sourceLang": "en",
   "targetLang": "fr",
   "useGoogleTranslate": true
  },
  "toc": {
   "base_numbering": 1,
   "nav_menu": {},
   "number_sections": true,
   "sideBar": true,
   "skip_h1_title": false,
   "title_cell": "Table of Contents",
   "title_sidebar": "Contents",
   "toc_cell": false,
   "toc_position": {},
   "toc_section_display": true,
   "toc_window_display": false
  }
 },
 "nbformat": 4,
 "nbformat_minor": 5
}
